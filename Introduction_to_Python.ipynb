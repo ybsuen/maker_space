{
 "cells": [
  {
   "cell_type": "markdown",
   "metadata": {
    "slideshow": {
     "slide_type": "slide"
    }
   },
   "source": [
    "<h1><center> Preparing and Exploring Data in Python</center></h1>"
   ]
  },
  {
   "cell_type": "markdown",
   "metadata": {
    "slideshow": {
     "slide_type": "slide"
    }
   },
   "source": [
    "<h1><center>Why Python?</center></h1>\n",
    "<div style=\"margin-left:100px;\">\n",
    "<ul>\n",
    "    <li>Simple syntax designed as a teaching language for learning Computer Science</li>\n",
    "    <li>Great language for learning about object oriented programming, a mordern programming approach</u></li>\n",
    "    <li>Vast support of programming libraries, especially for AI and data science works</li>\n",
    "    <li>Commercial adoptions have increased rapidly, providing plenty of job opportunities</li> \n",
    "    <li>Used by YouTube, Dropbox, Google, Instagram, Spotify, Reddit, Yahoo Maps, Pinterest, Washington Post, NASA, etc.</li>\n",
    "    <li>For web programming, like PHP and C#, Python is usually used for back-end processing.</li>\n",
    "</ul>\n",
    "</div>"
   ]
  },
  {
   "cell_type": "markdown",
   "metadata": {
    "slideshow": {
     "slide_type": "slide"
    }
   },
   "source": [
    "<h1><center>Back-end Development with Python</center></h1>"
   ]
  },
  {
   "cell_type": "markdown",
   "metadata": {
    "slideshow": {
     "slide_type": "slide"
    }
   },
   "source": [
    "<h1><center>Python Development with Anaconda and Jupyter Notebook</center></h1>\n",
    "<div style=\"margin-left:100px;\">\n",
    "<ul>\n",
    "    <li>Why Anaconda?</li>\n",
    "    <li>Most of the popular Python libraries such as BeautifulSoup, NumPy, Pandas, Mathplotlib are preinstalled</li>\n",
    "    <li>Other additional software tools such as R Studio, JupyterLab, Jupyter Notebook are also preinstalled</li>\n",
    "    <li>Cross-platform support on Mac, Windows, and Linux</li>\n",
    "    <li>Jupyter Notebook is a great tool for learning Python</li>\n",
    "    <li>Jupyter Notebook supports HTML/CSS and LaTex markup syntax</li>\n",
    "    <li>Jupyter Notebook supports slideshow presentation</li>\n",
    "    <li>Github support for Jupyter notebook document</li>\n",
    "</div>"
   ]
  },
  {
   "cell_type": "markdown",
   "metadata": {
    "slideshow": {
     "slide_type": "slide"
    }
   },
   "source": [
    "<h1><center>Basic Data Types in Python</center></h1>\n",
    "<div style=\"margin-left:100px;\">\n",
    "<ul>\n",
    "    <li>Integer</li>\n",
    "    <li>Float</li>\n",
    "    <li>String</li>\n",
    "    <li>Boolean</li>\n",
    "</ul>\n",
    "</div>"
   ]
  },
  {
   "cell_type": "markdown",
   "metadata": {
    "slideshow": {
     "slide_type": "slide"
    }
   },
   "source": [
    "<h1><center>Integer</center></h1>\n",
    "<div style=\"margin-left:100px;\">\n",
    "To show the result of your code, make sure \"code\" display option is chosen instead of the \"markdown\" option for rendering in Jupyter Notebook and then type:<br>\n",
    "<br>\n",
    "<ol>\n",
    "    <li>Press the \"+\" button on the button toolbar to create a new In-box</li>\n",
    "    <li>Enter 123</li>\n",
    "    <li>Hit \"Run\" on the button toolbar to execute your code.</li>\n",
    "    <li>Press the \"+\" button on the button toolbar to create a new In-box</li>\n",
    "    <li>Enter type(123)</li>\n",
    "    <li>Hit \"Run\" on the button toolbar to execute your code</li>\n",
    "    <li>See what you've got</li>\n",
    "</ol>\n",
    "</div>"
   ]
  },
  {
   "cell_type": "code",
   "execution_count": 7,
   "metadata": {},
   "outputs": [
    {
     "data": {
      "text/plain": [
       "str"
      ]
     },
     "execution_count": 7,
     "metadata": {},
     "output_type": "execute_result"
    }
   ],
   "source": [
    "type('123.45')"
   ]
  },
  {
   "cell_type": "markdown",
   "metadata": {
    "slideshow": {
     "slide_type": "slide"
    }
   },
   "source": [
    "<h1><center>Try it out</center></h1>"
   ]
  },
  {
   "cell_type": "markdown",
   "metadata": {
    "slideshow": {
     "slide_type": "slide"
    }
   },
   "source": [
    "<h1><center>Float</center></h1>\n",
    "<div style=\"margin-left:100px;\">\n",
    "To show the result of your code, make sure \"code\" display option is chosen instead of the \"markdown\" option for rendering in Jupyter Notebook and then type:<br>\n",
    "<br>\n",
    "<ol>\n",
    "    <li>Press the \"+\" button on the button toolbar to create a new In-box</li>\n",
    "    <li>Enter 123.45</li>\n",
    "    <li>Hit \"Run\" on the button toolbar to execute your code.</li>\n",
    "    <li>Press the \"+\" button on the button toolbar to create a new In-box</li>\n",
    "    <li>Enter type(123.45)</li>\n",
    "    <li>Hit \"Run\" on the button toolbar to execute your code</li>\n",
    "    <li>See what you've got</li>\n",
    "</ol>\n",
    "</div>"
   ]
  },
  {
   "cell_type": "markdown",
   "metadata": {
    "slideshow": {
     "slide_type": "slide"
    }
   },
   "source": [
    "<h1><center>Try it out</center></h1>"
   ]
  },
  {
   "cell_type": "markdown",
   "metadata": {
    "slideshow": {
     "slide_type": "slide"
    }
   },
   "source": [
    "<h1><center>String</center></h1>\n",
    "<div style=\"margin-left:100px;\">\n",
    "To show the result of your code, make sure \"code\" display option is chosen instead of the \"markdown\" option for rendering in Jupyter Notebook and then type:<br>\n",
    "<br>\n",
    "<ol>\n",
    "    <li>Press the \"+\" button on the button toolbar to create a new In-box</li>\n",
    "    <li>Enter '123.45'</li>\n",
    "    <li>Hit \"Run\" on the button toolbar to execute your code.</li>\n",
    "    <li>Press the \"+\" button on the button toolbar to create a new In-box</li>\n",
    "    <li>Enter type('123.45')</li>\n",
    "    <li>Hit \"Run\" on the button toolbar to execute your code</li>\n",
    "    <li>See what you've got</li>\n",
    "</ol>\n",
    "</div>"
   ]
  },
  {
   "cell_type": "markdown",
   "metadata": {
    "slideshow": {
     "slide_type": "slide"
    }
   },
   "source": [
    "<h1><center>Try it out</center></h1>"
   ]
  },
  {
   "cell_type": "markdown",
   "metadata": {
    "slideshow": {
     "slide_type": "slide"
    }
   },
   "source": [
    "<h1><center>Assign Data Type to Variables</center></h1>\n",
    "<div style=\"margin-left:100px;\">\n",
    "To show the result of your code, make sure \"code\" display option is chosen instead of the \"markdown\" option for rendering in Jupyter Notebook and then type:<br>\n",
    "<br>\n",
    "<ol>\n",
    "    <li>Press the \"+\" button on the button toolbar to create a new In-box</li>\n",
    "    <li>Enter 'x = 123'</li>\n",
    "    <li>Enter 'y = 123.45</li>\n",
    "    <li>Enter 'z = '123.45'</li>\n",
    "    <li>Enter 'print(x,y,z)</li>\n",
    "    <li>By the way, the command \"print\" is a built-in function in Python</li>\n",
    "    <li>Enter 'print(type(x),type(y),type(z))'. </li>\n",
    "    <li>Hit \"Run\" on the button toolbar to execute your code</li>\n",
    "    <li>See what you've got</li>\n",
    "</ol>\n",
    "</div>"
   ]
  },
  {
   "cell_type": "code",
   "execution_count": 9,
   "metadata": {},
   "outputs": [
    {
     "name": "stdout",
     "output_type": "stream",
     "text": [
      "123 123.45 123.45\n",
      "<class 'int'> <class 'float'> <class 'str'>\n"
     ]
    }
   ],
   "source": [
    "x = 123\n",
    "y = 123.45\n",
    "z = '123.45'\n",
    "print(x,y,z)\n",
    "print(type(x),type(y),type(z))"
   ]
  },
  {
   "cell_type": "markdown",
   "metadata": {
    "slideshow": {
     "slide_type": "slide"
    }
   },
   "source": [
    "<h1><center>Try it out</center></h1>"
   ]
  },
  {
   "cell_type": "markdown",
   "metadata": {
    "slideshow": {
     "slide_type": "slide"
    }
   },
   "source": [
    "<h1><center>Boolean</center></h1>\n",
    "<div style=\"margin-left:100px;\">\n",
    "To show the result of your code, make sure \"code\" display option is chosen instead of the \"markdown\" option for rendering in Jupyter Notebook and then type:<br>\n",
    "<br>\n",
    "<ol>\n",
    "    <li>Press the \"+\" button on the button toolbar to create a new In-box</li>\n",
    "    <li>Enter 'sign_up = True'</li>\n",
    "    <li>Enter type(type(sign_up)</li>\n",
    "    <li>Hit \"Run\" on the button toolbar to execute your code</li>\n",
    "    <li>See what you've got</li>\n",
    "</ol>\n",
    "</div>"
   ]
  },
  {
   "cell_type": "code",
   "execution_count": 10,
   "metadata": {},
   "outputs": [
    {
     "name": "stdout",
     "output_type": "stream",
     "text": [
      "<class 'bool'>\n"
     ]
    }
   ],
   "source": [
    "sign_up = True\n",
    "print(type(sign_up))"
   ]
  },
  {
   "cell_type": "markdown",
   "metadata": {
    "slideshow": {
     "slide_type": "slide"
    }
   },
   "source": [
    "<h1><center>Try it out</center></h1>"
   ]
  },
  {
   "cell_type": "markdown",
   "metadata": {
    "slideshow": {
     "slide_type": "slide"
    }
   },
   "source": [
    "<h1><center>More on Expressions and Variables</center></h1>\n",
    "<div style=\"margin-left:100px;\">\n",
    "To show the result of your code, make sure \"code\" display option is chosen instead of the \"markdown\" option for rendering in Jupyter Notebook and then type:<br>\n",
    "<br>\n",
    "<ol>\n",
    "    <li>Expressions are made up of mathematical operations</li>\n",
    "    <ul>\n",
    "        <li>Addition +</li>\n",
    "        <li>Subtraction -</li>\n",
    "        <li>Multiplication *</li>\n",
    "        <li>Division /</li>\n",
    "        <li>Rounded division //</li>\n",
    "        <li>Exponent **</li>\n",
    "        <li>Modulus % (division returns remainder)</li>\n",
    "    </ul>\n",
    "    <li>Variables (used for storing values)</li>\n",
    "    <ul>\n",
    "        <li>x = 123</li>\n",
    "        <li>y = 123.45</li>\n",
    "        <li>z = '123.45'</li>\n",
    "        <li>What is the result of adding x + y\n",
    "    </ul>\n",
    "</ol>\n",
    "</div>"
   ]
  },
  {
   "cell_type": "markdown",
   "metadata": {
    "slideshow": {
     "slide_type": "slide"
    }
   },
   "source": [
    "<h1><center>Try it out</center></h1>\n"
   ]
  },
  {
   "cell_type": "code",
   "execution_count": 18,
   "metadata": {
    "slideshow": {
     "slide_type": "slide"
    }
   },
   "outputs": [
    {
     "name": "stdout",
     "output_type": "stream",
     "text": [
      "<class 'str'>\n",
      "The result of 123 + 123.45 = 246.45\n"
     ]
    }
   ],
   "source": [
    "x = 123\n",
    "y = 123.45\n",
    "z = 'The result of ' + str(x) + \" + \" + str(y) + \" = \" + str(x+y)\n",
    "print(type(str(y)))\n",
    "print(z)"
   ]
  },
  {
   "cell_type": "markdown",
   "metadata": {
    "slideshow": {
     "slide_type": "slide"
    }
   },
   "source": [
    "<h1><center>More on String</center></h1>\n",
    "<div style=\"margin-left:100px;\">\n",
    "To show the result of your code, make sure \"code\" display option is chosen instead of the \"markdown\" option for rendering in Jupyter Notebook and then type:<br>\n",
    "<br>\n",
    "<ol>\n",
    "    <li>The concept of an \"index\": position of each character in the string</li>\n",
    "    <li>The first position is always \"0\"</li>\n",
    "    <li>Notation of the index is expressed as:string_var[beginning position:ending position]</li>\n",
    "    <li>The ending position is not included\n",
    "    <li>The len(string_var) function will return the length of the string</li>\n",
    "    <li>Let's say z = \"I am from CUHK.\"</li>\n",
    "    <li>What will the command print(z[1:4]) return?</li>\n",
    "    <li>How can you print out the entire string using the index</li> \n",
    "    <li>Negative index starts from the end of the string e.g. name[-1:] </li>\n",
    "</ol>\n",
    "</div>"
   ]
  },
  {
   "cell_type": "markdown",
   "metadata": {
    "slideshow": {
     "slide_type": "slide"
    }
   },
   "source": [
    "<h1><center>Try it out</center></h1>"
   ]
  },
  {
   "cell_type": "code",
   "execution_count": 2,
   "metadata": {},
   "outputs": [
    {
     "name": "stdout",
     "output_type": "stream",
     "text": [
      "I am\n",
      "I am from CUHK.\n",
      "HK.\n"
     ]
    }
   ],
   "source": [
    "z = \"I am from CUHK.\"\n",
    "print(z[0:4])\n",
    "print(z[0:15])\n",
    "print (z[-3:])"
   ]
  },
  {
   "cell_type": "code",
   "execution_count": 29,
   "metadata": {
    "slideshow": {
     "slide_type": "slide"
    }
   },
   "outputs": [
    {
     "name": "stdout",
     "output_type": "stream",
     "text": [
      "15\n",
      "I am from CUHK\n",
      "HK.\n",
      "CUHK\n"
     ]
    }
   ],
   "source": [
    "z = \"I am from CUHK.\"\n",
    "print(len(z))\n",
    "print(z[0:14])\n",
    "print(z[-3:])\n",
    "print(z[10:14])"
   ]
  },
  {
   "cell_type": "markdown",
   "metadata": {
    "slideshow": {
     "slide_type": "slide"
    }
   },
   "source": [
    "<h1><center>Useful String Functions</center></h1>\n",
    "<div style=\"margin-left:100px;\">\n",
    "To show the result of your code, make sure \"code\" display option is chosen instead of the \"markdown\" option for rendering in Jupyter Notebook and then type:<br>\n",
    "<br>\n",
    "<ol>\n",
    "    <li>name.upper()</li>\n",
    "    <li>name.replace(destination,source)</li>\n",
    "    <li>name.find(destination)</li>\n",
    "    <li>name.split()</li>\n",
    "    <li>name.count(target)</li>\n",
    "</ol>\n",
    "</div>"
   ]
  },
  {
   "cell_type": "code",
   "execution_count": 41,
   "metadata": {},
   "outputs": [
    {
     "name": "stdout",
     "output_type": "stream",
     "text": [
      "Prince Charles\n",
      "Prince Charles Prince Harry\n",
      "['Prince', 'Charles']\n",
      "2\n"
     ]
    }
   ],
   "source": [
    "famous_person = \"Prince Charles\"\n",
    "print(famous_person)\n",
    "famous_person2 = famous_person.replace(\"Charles\",\"Harry\")\n",
    "print(famous_person, famous_person2)\n",
    "print(famous_person.split())\n",
    "print(famous_person.count(\"e\"))"
   ]
  },
  {
   "cell_type": "markdown",
   "metadata": {
    "slideshow": {
     "slide_type": "slide"
    }
   },
   "source": [
    "<h1><center>Try it out</center></h1>"
   ]
  },
  {
   "cell_type": "code",
   "execution_count": 95,
   "metadata": {
    "slideshow": {
     "slide_type": "slide"
    }
   },
   "outputs": [
    {
     "name": "stdout",
     "output_type": "stream",
     "text": [
      "Prince Charles\n",
      "PRINCE WILLIAM\n",
      "-1\n",
      "7\n"
     ]
    }
   ],
   "source": [
    "name = \"Prince Charles\"\n",
    "print(name)\n",
    "name = name.replace(\"Charles\",\"William\")\n",
    "name = name.upper()\n",
    "print(name)\n",
    "print(name.find(\"Charles\"))\n",
    "print(name.find(\"WILLIAM\"))"
   ]
  },
  {
   "cell_type": "code",
   "execution_count": 19,
   "metadata": {},
   "outputs": [
    {
     "name": "stdout",
     "output_type": "stream",
     "text": [
      "1st Prince Position:0\n",
      "2nd Prince Position:19\n",
      "Prince Harry\n"
     ]
    }
   ],
   "source": [
    "names = \"Prince Charles and Prince Harry\"\n",
    "first_prince_position = names.find(\"Prince\")\n",
    "print(\"1st Prince Position:\"+str(first_prince_position))\n",
    "second_prince_position = names.find(\"Prince\",first_prince_position+1)\n",
    "print(\"2nd Prince Position:\"+str(second_prince_position))\n",
    "son_of_charles = names[second_prince_position:]\n",
    "print(son_of_charles)"
   ]
  },
  {
   "cell_type": "code",
   "execution_count": 32,
   "metadata": {},
   "outputs": [
    {
     "name": "stdout",
     "output_type": "stream",
     "text": [
      "3.14\n"
     ]
    },
    {
     "data": {
      "text/plain": [
       "str"
      ]
     },
     "execution_count": 32,
     "metadata": {},
     "output_type": "execute_result"
    }
   ],
   "source": [
    "# str(x) function will convert integer and float into a string\n",
    "x = 3.14\n",
    "y = str(x)\n",
    "print(y)\n",
    "type(y)"
   ]
  },
  {
   "cell_type": "code",
   "execution_count": 41,
   "metadata": {},
   "outputs": [
    {
     "name": "stdout",
     "output_type": "stream",
     "text": [
      "3.14\n",
      "3\n",
      "<class 'float'>\n",
      "<class 'int'>\n"
     ]
    }
   ],
   "source": [
    "# float(x) function will convert a string with decimal point into a float\n",
    "x = 3.14\n",
    "y = str(x)\n",
    "z1 = float(y)\n",
    "print(z1)\n",
    "z2 = int(y[0:y.find(\".\")])\n",
    "print(z2)\n",
    "print(type(z1))\n",
    "print(type(z2))"
   ]
  },
  {
   "cell_type": "code",
   "execution_count": 1,
   "metadata": {},
   "outputs": [
    {
     "name": "stdout",
     "output_type": "stream",
     "text": [
      "I am a boy or a girl\n"
     ]
    }
   ],
   "source": [
    "x = \"I am a boy\"\n",
    "y = x + \" or a girl\"\n",
    "print(y)"
   ]
  },
  {
   "cell_type": "code",
   "execution_count": 24,
   "metadata": {},
   "outputs": [
    {
     "name": "stdout",
     "output_type": "stream",
     "text": [
      "274\n"
     ]
    }
   ],
   "source": [
    "# Create a rounding function\n",
    "x = 273.87127\n",
    "pos = str(x).find(\".\")+1\n",
    "val = str(x)[pos:pos+1]\n",
    "if (int(val) >= 5):\n",
    "    print(str(x+1)[0:pos-1])\n",
    "else:\n",
    "    print(str(x)[0:pos-1])"
   ]
  },
  {
   "cell_type": "code",
   "execution_count": 30,
   "metadata": {},
   "outputs": [
    {
     "name": "stdout",
     "output_type": "stream",
     "text": [
      "273\n"
     ]
    }
   ],
   "source": [
    "# Another way to implement a rounding function\n",
    "x = 273.47127\n",
    "pos = str(str_x).find('.')+1\n",
    "val = str(x)[pos:pos+1]\n",
    "if (val in \"1234\"):\n",
    "    x = x\n",
    "else:\n",
    "    x = x + 1\n",
    "print(str(x)[0:pos-1])"
   ]
  },
  {
   "cell_type": "markdown",
   "metadata": {
    "slideshow": {
     "slide_type": "slide"
    }
   },
   "source": [
    "<h1><center>Basic Data Structures in Python</center></h1>\n",
    "<div style=\"margin-left:100px;\">\n",
    "<ul>\n",
    "    <li>List and Tuple</li>\n",
    "    <li>Dictionary and Set</li>\n",
    "</ul>\n",
    "</div>"
   ]
  },
  {
   "cell_type": "markdown",
   "metadata": {
    "slideshow": {
     "slide_type": "slide"
    }
   },
   "source": [
    "<h1><center>Tuple and List</center></h1>\n",
    "<div style=\"margin-left:100px;\">\n",
    "<ul>\n",
    "        <li>Tuples are arrays enclosed with round brackets for storing multiple variables</li>\n",
    "        <li>Variables with data types can be stored into a Tuple</li>\n",
    "        <li>A Tuple operates like a string and therefore can be indexed from the beginning (positive) and the end (negative)</li>\n",
    "        <li>Tuples are immutable</li>\n",
    "        <li>Inorder to manipulate a tuple, a new one has to be created</li>\n",
    "        <li>Tuples can be nested e.g. Tuple2 = (1,2,(3,4),5)</li>\n",
    "        <li>Due to its rigidity, List is more commonly used than Tuple.</li>\n",
    "        <li>Lists are like Tubles but are mutable and enclosed with square brackets</li>\n",
    "        <li>List, similar to a Tuple, operates like a string when it comes to access individual element within the data structure</li>\n",
    "</ul>\n",
    "</div>"
   ]
  },
  {
   "cell_type": "code",
   "execution_count": 38,
   "metadata": {},
   "outputs": [
    {
     "name": "stdout",
     "output_type": "stream",
     "text": [
      "(1, 1.3, 2, 'CUHK')\n",
      "[1, 1.3, 2, 'CUHK']\n"
     ]
    }
   ],
   "source": [
    "tuple1 = (1,1.3,2,'CUHK') \n",
    "print(tuple1)\n",
    "list1 = [1,1.3,2,'CUHK']\n",
    "print(list1)"
   ]
  },
  {
   "cell_type": "markdown",
   "metadata": {
    "slideshow": {
     "slide_type": "slide"
    }
   },
   "source": [
    "<h1><center>Try it out</center></h1>"
   ]
  },
  {
   "cell_type": "code",
   "execution_count": 57,
   "metadata": {},
   "outputs": [
    {
     "name": "stdout",
     "output_type": "stream",
     "text": [
      "[1, 2, 2.5, 3, 4, 5]\n",
      "[1, 2, 3, 4, 5, 2.5]\n",
      "[1, 2, 3, 4, 5, 2.5, 6, 7, 8]\n",
      "[1, 2, 3, 4, 5, 2.5, 6, 7, 8, [9, 10, 11]]\n",
      "[1, 2, 3, 4, 5, 2.5, 6, 7, 8]\n"
     ]
    }
   ],
   "source": [
    "my_list = [1,2,3,4,5,2.5]\n",
    "print(sorted(my_list))\n",
    "print(my_list)\n",
    "my_list = my_list + [6,7,8]\n",
    "print(my_list)\n",
    "my_list.append([9,10,11])\n",
    "print(my_list)\n",
    "del(my_list[9])\n",
    "print(my_list)"
   ]
  },
  {
   "cell_type": "code",
   "execution_count": 60,
   "metadata": {},
   "outputs": [
    {
     "name": "stdout",
     "output_type": "stream",
     "text": [
      "[100, 95, 85, 60, 60.5, 70]\n",
      "60\n",
      "[100, 95, 85, 60, 60.5, 70, [50, 45, 65, 55]]\n",
      "[60, 60.5, 70]\n",
      "[100, 95, 85, 60, 60.5, 70]\n",
      "[100, 95, 85, 60, 60.5, 70, [1, 2, 3, 'I am from CUHK.', True]]\n",
      "[100, 95, 85, 60, 60.5, 70, [1, 2, 3, 'I am from CUHK.', True], [11, 22, 33, [44, 55, 66]]]\n"
     ]
    }
   ],
   "source": [
    "score_list = [100,95,85,60,60.5,70]\n",
    "print(score_list)\n",
    "print(score_list[3])\n",
    "score_list.append([50,45,65,55])\n",
    "print(score_list)\n",
    "del(score_list[6])\n",
    "print(score_list[3:7])\n",
    "print(score_list)\n",
    "score_list.append([1,2,3,\"I am from CUHK.\",True])\n",
    "print(score_list)\n",
    "second_list = [11,22,33]\n",
    "second_list.append([44,55,66])\n",
    "score_list.append(second_list)\n",
    "print(score_list)"
   ]
  },
  {
   "cell_type": "markdown",
   "metadata": {
    "slideshow": {
     "slide_type": "slide"
    }
   },
   "source": [
    "<h1><center>Set and Dictionary</center></h1>\n",
    "<div style=\"margin-left:100px;\">\n",
    "<ul>\n",
    "        <li>Similar to lists and tuples, sets support different Python types</li>\n",
    "        <li>Sets use {} (braces) to embed values/elements</li>\n",
    "        <li>Sets do not allow duplicates</li>\n",
    "        <li>Lists can be converted into sets with the set function</li>\n",
    "        <li>Dictionary store data in an array of key-value pairs in braces</li>\n",
    "        <li>For instance, here is a dictionary instance: dict = {“key1”:1,”key2”:2,”key3”:3}\n",
    "</li>\n",
    "        <li>1st column representing the key and 2nd column representing the value</li>\n",
    "        <li><dict_name>.keys() returns all the keys</li>\n",
    "        <li><dict_name>.values.() returns all the values\n",
    "</ul>\n",
    "</div>"
   ]
  },
  {
   "cell_type": "code",
   "execution_count": 65,
   "metadata": {},
   "outputs": [
    {
     "name": "stdout",
     "output_type": "stream",
     "text": [
      "{'Peter': 80, 'David': 90, 'Mary': 100}\n",
      "dict_keys(['Peter', 'David', 'Mary'])\n",
      "dict_values([80, 90, 100])\n",
      "90\n",
      "[{'Peter': 80, 'David': 90, 'Mary': 100}]\n"
     ]
    }
   ],
   "source": [
    "dict1 = {'Peter':80,\"David\":90,\"Mary\":100}\n",
    "print(dict1)\n",
    "print(dict1.keys())\n",
    "print(dict1.values())\n",
    "print(dict1[\"David\"])\n",
    "scorelist = []\n",
    "scorelist.append(dict1)\n",
    "print(scorelist)"
   ]
  },
  {
   "cell_type": "code",
   "execution_count": 68,
   "metadata": {},
   "outputs": [
    {
     "name": "stdout",
     "output_type": "stream",
     "text": [
      "[{'Peter': 50, 'David': 60, 'Mary': 70}, {'Peter': 50, 'David': 70, 'Mary': 80}]\n"
     ]
    }
   ],
   "source": [
    "test1 = {\"Peter\":50,\"David\":60,\"Mary\":70}\n",
    "assignment1 = {\"Peter\":50,\"David\":70,\"Mary\":80}\n",
    "score_list = []\n",
    "score_list.append(test1)\n",
    "score_list.append(assignment1)\n",
    "print(score_list)"
   ]
  },
  {
   "cell_type": "markdown",
   "metadata": {
    "slideshow": {
     "slide_type": "slide"
    }
   },
   "source": [
    "<h1><center>Try it out</center></h1>"
   ]
  },
  {
   "cell_type": "markdown",
   "metadata": {
    "slideshow": {
     "slide_type": "slide"
    }
   },
   "source": [
    "<h1><center>Basic Operations in Python</center></h1>\n",
    "<div style=\"margin-left:100px;\">\n",
    "<ul>\n",
    "    <li>Variable Assignment</li>\n",
    "    <li>Mathematical Operations</li>\n",
    "    <li>Functional Decomposition and Abstraction</li>\n",
    "    <li>Logical Operations</li>\n",
    "    <li>Looping Operations</li>\n",
    "</ul>\n",
    "</div>"
   ]
  },
  {
   "cell_type": "markdown",
   "metadata": {
    "slideshow": {
     "slide_type": "slide"
    }
   },
   "source": [
    "<h1><center>Try it out</center></h1>"
   ]
  },
  {
   "cell_type": "code",
   "execution_count": 74,
   "metadata": {},
   "outputs": [
    {
     "name": "stdout",
     "output_type": "stream",
     "text": [
      "[{'Peter': 50, 'David': 60, 'Mary': 65, 'Harry': 80}, {'Peter': 90, 'David': 90, 'Mary': 85, 'Harry': 70}]\n"
     ]
    }
   ],
   "source": [
    "scorelist = []\n",
    "test1 = {\"Peter\":50,\"David\":60,\"Mary\":65,\"Harry\":80}\n",
    "test2 = {\"Peter\":90,\"David\":90,\"Mary\":85,\"Harry\":70}\n",
    "scorelist.append(test1)\n",
    "scorelist.append(test2)\n",
    "print(scorelist)"
   ]
  },
  {
   "cell_type": "markdown",
   "metadata": {
    "slideshow": {
     "slide_type": "slide"
    }
   },
   "source": [
    "<h1><center>Looping Operations</center></h1>\n",
    "<div style=\"margin-left:100px;\">"
   ]
  },
  {
   "cell_type": "code",
   "execution_count": 2,
   "metadata": {},
   "outputs": [
    {
     "name": "stdout",
     "output_type": "stream",
     "text": [
      "0\n",
      "1\n",
      "2\n",
      "3\n",
      "4\n"
     ]
    }
   ],
   "source": [
    "for i in range(0,5):\n",
    "    print(i)"
   ]
  },
  {
   "cell_type": "code",
   "execution_count": 166,
   "metadata": {},
   "outputs": [
    {
     "name": "stdout",
     "output_type": "stream",
     "text": [
      "John makes 1950.0.\n",
      "Mike makes 3000.0.\n",
      "Mary makes 3250.0.\n",
      "Jane makes 4500.0.\n",
      "[['John', 'Mike', 'Mary', 'Jane'], [1950.0, 3000.0, 3250.0, 4500.0]]\n"
     ]
    }
   ],
   "source": [
    "hrs_list = [30.0,40.0,50.0,60.0]\n",
    "rate_list = [65.0,75.0,65.0,75.0]\n",
    "name_list = ['John',\"Mike\",\"Mary\",\"Jane\"]\n",
    "index = 0\n",
    "fee_list = []\n",
    "for number in name_list:\n",
    "        hrs = hrs_list[index]\n",
    "        rate = rate_list[index]\n",
    "        fee = hrs * rate\n",
    "        fee_list.append(fee)\n",
    "        money_made = name_list[index] + \" makes \" + str(fee) + \".\"\n",
    "        print(money_made)  \n",
    "        index = index + 1\n",
    "money_list = []\n",
    "money_list.append(name_list)\n",
    "money_list.append(fee_list)\n",
    "print(money_list)"
   ]
  },
  {
   "cell_type": "code",
   "execution_count": 5,
   "metadata": {},
   "outputs": [
    {
     "name": "stdout",
     "output_type": "stream",
     "text": [
      "John makes 1950.0.\n",
      "Mike makes 3000.0.\n",
      "Mary makes 3250.0.\n",
      "Jane makes 4500.0.\n",
      "[['John', 'Mike', 'Mary', 'Jane'], [1950.0, 3000.0, 3250.0, 4500.0]]\n"
     ]
    }
   ],
   "source": [
    "hrs_list = [30.0,40.0,50.0,60.0]\n",
    "rate_list = [65.0,75.0,65.0,75.0]\n",
    "name_list = ['John',\"Mike\",\"Mary\",\"Jane\"]\n",
    "fee_list = []\n",
    "for number in range(len(name_list)):\n",
    "        hrs = hrs_list[number]\n",
    "        rate = rate_list[number]\n",
    "        fee = hrs * rate\n",
    "        fee_list.append(fee)\n",
    "        money_made = name_list[number] + \" makes \" + str(fee) + \".\"\n",
    "        print(money_made)  \n",
    "money_list = []\n",
    "money_list.append(name_list)\n",
    "money_list.append(fee_list)\n",
    "print(money_list)"
   ]
  },
  {
   "cell_type": "code",
   "execution_count": 12,
   "metadata": {},
   "outputs": [
    {
     "name": "stdout",
     "output_type": "stream",
     "text": [
      "John makes 1950.0.\n",
      "Mike makes 3000.0.\n",
      "Mary makes 3250.0.\n",
      "Jane makes 4500.0.\n",
      "[['John', 'Mike', 'Mary', 'Jane'], [1950.0, 3000.0, 3250.0, 4500.0]]\n",
      "4\n"
     ]
    }
   ],
   "source": [
    "hrs_list = [30.0,40.0,50.0,60.0]\n",
    "rate_list = [65.0,75.0,65.0,75.0]\n",
    "name_list = ['John',\"Mike\",\"Mary\",\"Jane\"]\n",
    "fee_list = []\n",
    "number = 0\n",
    "while number < len(name_list):\n",
    "        hrs = hrs_list[number]\n",
    "        rate = rate_list[number]\n",
    "        fee = hrs * rate\n",
    "        fee_list.append(fee)\n",
    "        money_made = name_list[number] + \" makes \" + str(fee) + \".\"\n",
    "        print(money_made)  \n",
    "        number = number + 1\n",
    "money_list = []\n",
    "money_list.append(name_list)\n",
    "money_list.append(fee_list)\n",
    "print(money_list)\n",
    "print(len(name_list))"
   ]
  },
  {
   "cell_type": "code",
   "execution_count": 95,
   "metadata": {
    "slideshow": {
     "slide_type": "slide"
    }
   },
   "outputs": [
    {
     "name": "stdout",
     "output_type": "stream",
     "text": [
      "a apple\n",
      "b berry\n",
      "c cherry\n"
     ]
    }
   ],
   "source": [
    "d = {'a': 'apple', 'b': 'berry', 'c': 'cherry'}\n",
    "for key in d:\n",
    "  print(key, d[key])"
   ]
  },
  {
   "cell_type": "code",
   "execution_count": 180,
   "metadata": {},
   "outputs": [
    {
     "name": "stdout",
     "output_type": "stream",
     "text": [
      "John  makes 1950.0.\n",
      "Mike  makes 3000.0.\n",
      "Mary  makes 3250.0.\n",
      "Jane  makes 4500.0.\n"
     ]
    }
   ],
   "source": [
    "hrs_list = [30.0,40.0,50.0,60.0]\n",
    "rate_list = [65.0,75.0,65.0,75.0]\n",
    "name_list = ['John',\"Mike\",\"Mary\",\"Jane\"]\n",
    "hrs = {\"John\":30.0,\"Mike\":40,\"Mary\":50,\"Jane\":60}\n",
    "rates = {\"John\":65.0,\"Mike\":75.0,\"Mary\":65.0,\"Jane\":75.0}\n",
    "for i in name_list:\n",
    "    fees = hrs[i]* rates[i]\n",
    "    make_money = \" makes \" + str(fees) + \".\"\n",
    "    print(i,make_money)"
   ]
  },
  {
   "cell_type": "markdown",
   "metadata": {
    "slideshow": {
     "slide_type": "slide"
    }
   },
   "source": [
    "<h1><center>Conditional Operations</center></h1>\n",
    "<div style=\"margin-left:100px;\">"
   ]
  },
  {
   "cell_type": "code",
   "execution_count": 185,
   "metadata": {},
   "outputs": [
    {
     "name": "stdout",
     "output_type": "stream",
     "text": [
      "0 red\n",
      "1 green\n",
      "2 Blue is printed.\n",
      "3 orange\n",
      "4 black\n",
      "This is done.\n"
     ]
    }
   ],
   "source": [
    "my_list = ['red','green','blue','orange','black']\n",
    "index = 0\n",
    "for i in my_list:\n",
    "  if i == 'blue':\n",
    "    print(index, \"Blue is printed.\")\n",
    "    index += 1\n",
    "  else:\n",
    "    print(index, my_list[index])\n",
    "    # index += 1\n",
    "    index = index + 1\n",
    "print(\"This is done.\")  \n",
    " "
   ]
  },
  {
   "cell_type": "code",
   "execution_count": 189,
   "metadata": {},
   "outputs": [
    {
     "name": "stdout",
     "output_type": "stream",
     "text": [
      "Less than 3200\n",
      "  John  makes 1950.0.\n",
      "  Mike  makes 3000.0.\n",
      "More than or equal to 3200\n",
      "  Mary  makes 3250.0.\n",
      "  Jane  makes 4500.0.\n"
     ]
    }
   ],
   "source": [
    "hrs_list = [30.0,40.0,50.0,60.0]\n",
    "rate_list = [65.0,75.0,65.0,75.0]\n",
    "name_list = ['John',\"Mike\",\"Mary\",\"Jane\"]\n",
    "hrs = {\"John\":30.0,\"Mike\":40,\"Mary\":50,\"Jane\":60}\n",
    "rates = {\"John\":65.0,\"Mike\":75.0,\"Mary\":65.0,\"Jane\":75.0}\n",
    "less_than_3200 = False\n",
    "greater_equal_3200 = False\n",
    "for i in name_list:\n",
    "    fees = hrs[i]* rates[i]\n",
    "    make_money = \" makes \" + str(fees) + \".\"\n",
    "    if (fees < 3200.0):\n",
    "        if (less_than_3200 == False):\n",
    "            print(\"Less than 3200\")\n",
    "            less_than_3200 = True\n",
    "        print(\" \",i,make_money)\n",
    "    else:\n",
    "        if (greater_equal_3200 == False):\n",
    "            print(\"More than or equal to 3200\")\n",
    "            greater_equal_3200 = True\n",
    "        print(\" \",i,make_money)"
   ]
  },
  {
   "cell_type": "markdown",
   "metadata": {},
   "source": [
    "<h1><center>Functional Decomposition and Abstraction</center></h1>\n",
    "<div style=\"margin-left:100px;\">\n",
    "<ul>\n",
    "        <li>A Python function takes input parameters and returns output results</li>\n",
    "        <li>A function starts with the \"def\" keyword</li>\n",
    "        <li>Calling the function will past contrl from the calling command to the called function</li>\n",
    "        <li>Make sure the number of parameters called match with the number of parameters and type</li>\n",
    "        <li>Enclose programming statements in a function to transfer inputs into outputs</li>\n",
    "        <li>Built-in functions can come with Python (e.g. y = len(list)) and other imported external modules</li>\n",
    "        <li>Lists can be converted into sets with the set function</li>\n",
    "        <li>A function can take it multiple input parameters (e.g. def Multi(a,b):)</li>\n",
    "        <li>Global and local variables can be initialized and used inside a Python program but only local variables exist inside a function</li>\n",
    "</ul>\n",
    "</div>"
   ]
  },
  {
   "cell_type": "code",
   "execution_count": 43,
   "metadata": {},
   "outputs": [
    {
     "name": "stdout",
     "output_type": "stream",
     "text": [
      "3\n",
      "4\n"
     ]
    }
   ],
   "source": [
    "# Create a rounding function given rounded_to_int(x) and x can be any integer or float.\n",
    "# so rounded_to_int(3.14) will return 3 and rounded_to_int(3.54) will return 4. \n",
    "# Create a rounding function\n",
    "\n",
    "def rounded_to_int(x):\n",
    "    pos = str(x).find(\".\")+1\n",
    "    val = str(x)[pos:pos+1]\n",
    "    if (int(val) >= 5):\n",
    "        result = str(x+1)[0:pos-1]\n",
    "    else:\n",
    "        result = str(x)[0:pos-1]\n",
    "    return result\n",
    "\n",
    "print(rounded_to_int(3.14))\n",
    "print(rounded_to_int(3.54))"
   ]
  },
  {
   "cell_type": "markdown",
   "metadata": {},
   "source": [
    "# A Tuition Fee Computation Example"
   ]
  },
  {
   "cell_type": "code",
   "execution_count": 45,
   "metadata": {},
   "outputs": [
    {
     "name": "stdout",
     "output_type": "stream",
     "text": [
      "1812.0\n"
     ]
    }
   ],
   "source": [
    "def compute_ta_fees(hrs,rate):\n",
    "    fee = hrs*rate\n",
    "    return fee\n",
    "ta_fees = compute_ta_fees(30,60.40)\n",
    "print(ta_fees)"
   ]
  },
  {
   "cell_type": "code",
   "execution_count": 46,
   "metadata": {},
   "outputs": [
    {
     "name": "stdout",
     "output_type": "stream",
     "text": [
      "Bernard has received $1812.0.\n"
     ]
    }
   ],
   "source": [
    "def compute_ta_fees(hrs,rate,name):\n",
    "    fee = hrs*rate\n",
    "    return name + \" has received $\" + str(fee) + \".\"\n",
    "ta_fees = compute_ta_fees(30,60.40,'Bernard')\n",
    "print(ta_fees)"
   ]
  },
  {
   "cell_type": "code",
   "execution_count": 47,
   "metadata": {},
   "outputs": [
    {
     "name": "stdout",
     "output_type": "stream",
     "text": [
      "Mary's mom has received $484.55999999999995.\n"
     ]
    }
   ],
   "source": [
    "def compute_ta_fees(hrs,rate,name):\n",
    "    fee = hrs*rate\n",
    "    money_to_mom = fee*.2\n",
    "    return name + \"'s mom has received $\" + str(money_to_mom) + \".\"\n",
    "ta_fees = compute_ta_fees(36,67.30,'Mary')\n",
    "print(ta_fees)"
   ]
  },
  {
   "cell_type": "code",
   "execution_count": 49,
   "metadata": {},
   "outputs": [
    {
     "name": "stdout",
     "output_type": "stream",
     "text": [
      "John's mom has received $390.0.\n",
      "Mike's mom has received $600.0.\n",
      "Mary's mom has received $650.0.\n",
      "Jane's mom has received $900.0.\n",
      "[\"John's mom has received $390.0.\", \"Mike's mom has received $600.0.\", \"Mary's mom has received $650.0.\", \"Jane's mom has received $900.0.\"]\n"
     ]
    }
   ],
   "source": [
    "def compute_ta_fees(hrs,rate,name):\n",
    "    fee = hrs*rate\n",
    "    money_to_mom = fee*.2\n",
    "    return name + \"'s mom has received $\" + str(money_to_mom) + \".\"\n",
    "# print ta_fees\n",
    "hrs_list = [30.0,40.0,50.0,60.0]\n",
    "rate_list = [65.0,75.0,65.0,75.0]\n",
    "name_list = ['John',\"Mike\",\"Mary\",\"Jane\"]\n",
    "index = 0\n",
    "output_list = []\n",
    "for number in name_list:\n",
    "        hrs = hrs_list[index]\n",
    "        rate = rate_list[index]\n",
    "        name = name_list[index]\n",
    "        ta_fees = compute_ta_fees(hrs,rate,name)\n",
    "        print(ta_fees)\n",
    "        output_list.append(ta_fees)\n",
    "        index = index + 1\n",
    "print(output_list)"
   ]
  },
  {
   "cell_type": "code",
   "execution_count": 33,
   "metadata": {},
   "outputs": [
    {
     "name": "stdout",
     "output_type": "stream",
     "text": [
      "ABC 2T HD : 59\n",
      "TS Wireless keyboard : 31\n",
      "Total: 920\n"
     ]
    }
   ],
   "source": [
    "purchase_list = [\"ABC 2T HD\", \"MS wireless mouse\", \"TS Wireless keyboard\"]\n",
    "inventory = {\n",
    "    \"ABC 2T HD\":60,\n",
    "    \"MS wireless mouse\":0,\n",
    "    \"TS Wireless keyboard\":32,\n",
    "    \"CC 500G USB Drive\":25\n",
    "}\n",
    "\n",
    "prices = {\n",
    "    \"ABC 2T HD\":800,\n",
    "    \"MS wireless mouse\":200,\n",
    "    \"TS Wireless keyboard\":120,\n",
    "    \"CC 500G USB Drive\":450\n",
    "}\n",
    "\n",
    "# Write your code below!\n",
    "def compute_bill(part_list):\n",
    "    total = 0\n",
    "    for item in part_list:\n",
    "        if inventory[item] > 0:\n",
    "            total = total + prices[item]\n",
    "            inventory[item] = inventory[item] - 1\n",
    "            print(item,\":\",inventory[item])\n",
    "    return total\n",
    "\n",
    "print(\"Total:\",compute_bill(purchase_list))"
   ]
  },
  {
   "cell_type": "code",
   "execution_count": 4,
   "metadata": {},
   "outputs": [
    {
     "name": "stdout",
     "output_type": "stream",
     "text": [
      "79.9\n",
      "C\n"
     ]
    }
   ],
   "source": [
    "lloyd = {\n",
    "  \"name\": \"Lloyd\",\n",
    "  \"homework\": [90.0, 97.0, 75.0, 92.0],\n",
    "  \"quizzes\": [88.0, 40.0, 94.0],\n",
    "  \"tests\": [75.0, 90.0]\n",
    "}\n",
    "alice = {\n",
    "  \"name\": \"Alice\",\n",
    "  \"homework\": [100.0, 92.0, 98.0, 100.0],\n",
    "  \"quizzes\": [82.0, 83.0, 91.0],\n",
    "  \"tests\": [89.0, 97.0]\n",
    "}\n",
    "tyler = {\n",
    "  \"name\": \"Tyler\",\n",
    "  \"homework\": [0.0, 87.0, 75.0, 22.0],\n",
    "  \"quizzes\": [0.0, 75.0, 78.0],\n",
    "  \"tests\": [100.0, 100.0]\n",
    "}\n",
    "def average(numbers): # Step 4\n",
    "    total = sum(numbers)\n",
    "    total = float(total) \n",
    "    return total/len(numbers)\n",
    "\n",
    "def get_average(student): # Step 3\n",
    "    homework = average(student[\"homework\"]) # Step 4\n",
    "    quizzes = average(student[\"quizzes\"])\n",
    "    tests = average(student[\"tests\"])\n",
    "    return 0.1 * homework + 0.3 * quizzes + 0.6 * tests\n",
    "\n",
    "def get_letter_grade(score): # Step 5\n",
    "    if score >= 90:\n",
    "        return \"A\" \n",
    "    elif score >=80:\n",
    "        return \"B\"\n",
    "    elif score >=70:\n",
    "        return \"C\" \n",
    "    elif score >=60:\n",
    "        return \"D\"\n",
    "    else:\n",
    "        return \"F\"\n",
    "    \n",
    "def get_class_average(class_list): # Step 2\n",
    "    results = []\n",
    "    for student in class_list:\n",
    "        student_avg = get_average(student) # Step 3\n",
    "    results.append(student_avg)\n",
    "    return average(results)\n",
    "\n",
    "students = [lloyd, alice, tyler] # Step 1 - students is a list of dict objects with each dict representing the\n",
    "                                 # records of the student's scores in homeworks, quizzes, and tests         \n",
    "class_avg = get_class_average(students)# Step 2\n",
    "print(class_avg)\n",
    "print(get_letter_grade(class_avg)) # Step 5"
   ]
  }
 ],
 "metadata": {
  "hide_input": false,
  "kernelspec": {
   "display_name": "Python 3",
   "language": "python",
   "name": "python3"
  },
  "language_info": {
   "codemirror_mode": {
    "name": "ipython",
    "version": 3
   },
   "file_extension": ".py",
   "mimetype": "text/x-python",
   "name": "python",
   "nbconvert_exporter": "python",
   "pygments_lexer": "ipython3",
   "version": "3.7.4"
  }
 },
 "nbformat": 4,
 "nbformat_minor": 2
}
